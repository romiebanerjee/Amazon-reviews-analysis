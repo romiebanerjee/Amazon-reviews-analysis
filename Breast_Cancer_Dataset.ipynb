{
 "cells": [
  {
   "cell_type": "code",
   "execution_count": null,
   "metadata": {},
   "outputs": [],
   "source": [
    "import numpy as np\n",
    "import pandas as pd\n",
    "import seaborn as sns\n",
    "import matplotlib.pyplot as plt\n",
    "sns.set_style()"
   ]
  },
  {
   "cell_type": "code",
   "execution_count": null,
   "metadata": {
    "collapsed": true
   },
   "outputs": [],
   "source": [
    "df = pd.read_csv(\"breast_cancer.csv\")"
   ]
  },
  {
   "cell_type": "code",
   "execution_count": null,
   "metadata": {},
   "outputs": [],
   "source": [
    "df.head()"
   ]
  },
  {
   "cell_type": "markdown",
   "metadata": {},
   "source": [
    "##  Feature analysis"
   ]
  },
  {
   "cell_type": "code",
   "execution_count": null,
   "metadata": {},
   "outputs": [],
   "source": [
    "target = df[\"diagnosis\"]\n",
    "features_drop = [\"id\", \"diagnosis\", \"Unnamed: 32\"]\n",
    "data = df.drop(features_drop, axis = 1)"
   ]
  },
  {
   "cell_type": "code",
   "execution_count": null,
   "metadata": {},
   "outputs": [],
   "source": [
    "sns.countplot(df['diagnosis'],label=\"Count\")\n",
    "plt.show()"
   ]
  },
  {
   "cell_type": "markdown",
   "metadata": {},
   "source": [
    "### Correlation "
   ]
  },
  {
   "cell_type": "code",
   "execution_count": null,
   "metadata": {},
   "outputs": [],
   "source": [
    "plt.figure(figsize = (12,10))\n",
    "\n",
    "sns.heatmap(data.corr(), linewidths = 0.5)\n",
    "plt.show()"
   ]
  },
  {
   "cell_type": "code",
   "execution_count": null,
   "metadata": {},
   "outputs": [],
   "source": [
    "plt.figure()\n",
    "pd.plotting.scatter_matrix(data.iloc[:,0:10], figsize = (20,20))\n",
    "plt.show()"
   ]
  },
  {
   "cell_type": "code",
   "execution_count": null,
   "metadata": {
    "scrolled": true
   },
   "outputs": [],
   "source": [
    "data.describe()"
   ]
  },
  {
   "cell_type": "code",
   "execution_count": null,
   "metadata": {},
   "outputs": [],
   "source": [
    "data_std = (data - data.mean())/data.std()"
   ]
  },
  {
   "cell_type": "code",
   "execution_count": null,
   "metadata": {
    "slideshow": {
     "slide_type": "slide"
    }
   },
   "outputs": [],
   "source": [
    "plt.figure(figsize = (50,20))\n",
    "sns.violinplot(data=data_std)\n",
    "plt.show()"
   ]
  },
  {
   "cell_type": "code",
   "execution_count": null,
   "metadata": {},
   "outputs": [],
   "source": [
    "data_l = pd.concat([target, data_std.iloc[:,0:10]], axis=1)\n",
    "data_r = pd.melt(data_l,id_vars=\"diagnosis\",\n",
    "                    var_name=\"features\",\n",
    "                    value_name='value')\n",
    "plt.figure(figsize=(50,20))\n",
    "sns.violinplot(x=\"features\", y=\"value\", hue=\"diagnosis\", data=data_r, split=True)\n",
    "plt.show()"
   ]
  },
  {
   "cell_type": "code",
   "execution_count": null,
   "metadata": {},
   "outputs": [],
   "source": [
    "\n",
    "plt.figure(figsize=(50,20))\n",
    "sns.violinplot(x=\"features\", y=\"value\", hue=\"diagnosis\", data=data_r, split=True)\n",
    "plt.show()"
   ]
  },
  {
   "cell_type": "code",
   "execution_count": null,
   "metadata": {},
   "outputs": [],
   "source": [
    "data_l = pd.concat([target, data_std.iloc[:,21:30]], axis=1)\n",
    "data_r = pd.melt(data_l,id_vars=\"diagnosis\",\n",
    "                    var_name=\"features\",\n",
    "                    value_name='value')\n",
    "\n",
    "plt.figure(figsize=(50,20))\n",
    "sns.violinplot(x=\"features\", y=\"value\", hue=\"diagnosis\", data=data_r, split=True)\n",
    "plt.show()"
   ]
  },
  {
   "cell_type": "markdown",
   "metadata": {},
   "source": [
    "\n",
    "### PCA-1"
   ]
  },
  {
   "cell_type": "code",
   "execution_count": null,
   "metadata": {},
   "outputs": [],
   "source": [
    "from sklearn.decomposition import PCA"
   ]
  },
  {
   "cell_type": "code",
   "execution_count": null,
   "metadata": {
    "scrolled": false
   },
   "outputs": [],
   "source": [
    "pca = PCA(n_components = 1)\n",
    "proj_data = pca.fit_transform(data)\n",
    "df_proj = pd.DataFrame({\"PCA_1_x1\": proj_data[:,0], \"diagnosis\": target.values.tolist()})\n",
    "\n",
    "data_proj = pd.melt(df_proj,id_vars=\"diagnosis\",\n",
    "                    var_name=\"features\",\n",
    "                    value_name='value')\n",
    "\n",
    "plt.figure(figsize=(10,7))\n",
    "sns.violinplot(x=\"features\", y=\"value\", hue=\"diagnosis\", data=data_proj, split=True)\n",
    "plt.show()"
   ]
  },
  {
   "cell_type": "markdown",
   "metadata": {},
   "source": [
    "### PCA-2"
   ]
  },
  {
   "cell_type": "code",
   "execution_count": null,
   "metadata": {},
   "outputs": [],
   "source": [
    "pca = PCA(n_components = 2)\n",
    "proj_data = pca.fit_transform(data)\n",
    "df_proj = pd.DataFrame({\"x1\": proj_data[:,0], \"x2\":proj_data[:,1], \"diagnosis\": target.values.tolist()})\n",
    "df_proj[\"diagnosis\"] = target.tolist()"
   ]
  },
  {
   "cell_type": "code",
   "execution_count": null,
   "metadata": {
    "scrolled": false
   },
   "outputs": [],
   "source": [
    "data_proj = pd.melt(df_proj,id_vars=\"diagnosis\",\n",
    "                    var_name=\"features\",\n",
    "                    value_name='value')\n",
    "\n",
    "plt.figure(figsize=(25,10))\n",
    "sns.violinplot(x=\"features\", y=\"value\", hue=\"diagnosis\", data=data_proj, split=True)\n",
    "plt.show()"
   ]
  },
  {
   "cell_type": "code",
   "execution_count": null,
   "metadata": {
    "scrolled": false
   },
   "outputs": [],
   "source": [
    "#plt.figure(figsize = (50,50))\n",
    "sns.jointplot(df_proj.loc[:,\"x1\"], df_proj.loc[:,'x2'], kind = \"reg\")\n",
    "plt.show()"
   ]
  },
  {
   "cell_type": "code",
   "execution_count": null,
   "metadata": {},
   "outputs": [],
   "source": [
    "import matplotlib.pyplot as plt\n",
    "fig = plt.figure(figsize = (6,6))\n",
    "df_proj_M = df_proj[df_proj[\"diagnosis\"] == \"M\"]\n",
    "df_proj_B = df_proj[df_proj[\"diagnosis\"] == \"B\"]\n",
    "\n",
    "X,Y = df_proj_M[\"x1\"].values.tolist(), df_proj_M[\"x2\"].values.tolist() \n",
    "plt.scatter(X,Y, c = \"green\")\n",
    "X,Y = df_proj_B[\"x1\"].values.tolist(), df_proj_B[\"x2\"].values.tolist()\n",
    "plt.scatter(X,Y, c = \"red\")\n",
    "plt.show()\n"
   ]
  },
  {
   "cell_type": "markdown",
   "metadata": {},
   "source": [
    "### PCA-3\n"
   ]
  },
  {
   "cell_type": "code",
   "execution_count": null,
   "metadata": {
    "collapsed": true
   },
   "outputs": [],
   "source": [
    "pca = PCA(n_components = 3)\n",
    "proj_data = pca.fit_transform(data)\n",
    "df_proj = pd.DataFrame({\"x1\": proj_data[:,0], \"x2\":proj_data[:,1], \"x3\":proj_data[:,2], \"diagnosis\": target.values.tolist()})\n",
    "df_proj[\"diagnosis\"] = target.tolist()\n"
   ]
  },
  {
   "cell_type": "code",
   "execution_count": null,
   "metadata": {},
   "outputs": [],
   "source": [
    "import matplotlib.pyplot as plt\n",
    "from mpl_toolkits.mplot3d import Axes3D\n",
    "fig = plt.figure(figsize = (10,10))\n",
    "ax = fig.add_subplot(111, projection='3d')\n",
    "\n",
    "df_proj_M = df_proj[df_proj[\"diagnosis\"] == \"M\"]\n",
    "df_proj_B = df_proj[df_proj[\"diagnosis\"] == \"B\"]\n",
    "\n",
    "X,Y,Z = df_proj_M[\"x1\"].values.tolist(), df_proj_M[\"x2\"].values.tolist(), df_proj_M[\"x3\"].values.tolist() \n",
    "ax.scatter(X,Y,Z, c = \"green\")\n",
    "X,Y,Z = df_proj_B[\"x1\"].values.tolist(), df_proj_B[\"x2\"].values.tolist(), df_proj_B[\"x3\"].values.tolist() \n",
    "ax.scatter(X,Y,Z, c =\"purple\")\n",
    "plt.show()"
   ]
  },
  {
   "cell_type": "code",
   "execution_count": null,
   "metadata": {
    "collapsed": true
   },
   "outputs": [],
   "source": []
  },
  {
   "cell_type": "markdown",
   "metadata": {},
   "source": [
    "# Topological Data Analysis"
   ]
  },
  {
   "cell_type": "markdown",
   "metadata": {},
   "source": [
    "### Mapper (filter = PCA-1)"
   ]
  },
  {
   "cell_type": "code",
   "execution_count": null,
   "metadata": {
    "collapsed": true
   },
   "outputs": [],
   "source": [
    "#prepare data for mapper\n",
    "data_mapper = [data.iloc[i,:].tolist() for i in range(len(data))]\n",
    "\n",
    "import mapper as mp\n",
    "out = mp.Mapper(lens = \"PCA\", clusterer = \"DBSCAN\", n_rcover = [100, 2], clusterer_params  = (0.1,5))\n",
    "out.write_to_json(data_mapper)"
   ]
  },
  {
   "cell_type": "markdown",
   "metadata": {},
   "source": [
    "![alt text](Breast_Cancer_TDA/breast_cancer_kaggle_mapper_PCA_100_2.png \"mapper_PCA_100_2\")\n"
   ]
  },
  {
   "cell_type": "markdown",
   "metadata": {},
   "source": [
    "### Mapper (filter = eccentricity)"
   ]
  },
  {
   "cell_type": "code",
   "execution_count": null,
   "metadata": {
    "collapsed": true
   },
   "outputs": [],
   "source": [
    "out = mp.Mapper(lens = \"eccentricity\", clusterer = \"DBSCAN\", n_rcover = [100, 2], clusterer_params  = (0.1,5))\n",
    "out.write_to_json(data_mapper)"
   ]
  },
  {
   "cell_type": "markdown",
   "metadata": {},
   "source": [
    "![alt text](Breast_Cancer_TDA/breast_cancer_kaggle_eccentricity_100_2.png \"mapper_eccentricity\")\n"
   ]
  },
  {
   "cell_type": "markdown",
   "metadata": {},
   "source": [
    "## k-nerve "
   ]
  },
  {
   "cell_type": "code",
   "execution_count": null,
   "metadata": {
    "scrolled": true
   },
   "outputs": [],
   "source": [
    "# prepare data for k-nerve\n",
    "\n",
    "data_kn = [data.iloc[i,:].tolist() for i in range(len(data))]\n",
    "labels = target.values.tolist()\n",
    "labels_kn = list(map(lambda x: 1 if x==\"M\" else 0, labels))"
   ]
  },
  {
   "cell_type": "markdown",
   "metadata": {},
   "source": [
    "## 1-nerve"
   ]
  },
  {
   "cell_type": "code",
   "execution_count": null,
   "metadata": {},
   "outputs": [],
   "source": [
    "import k_nerve as kn\n",
    "KN = kn.k_Nerve(n_components = 1, covering_size = 50, overlap = 1.5)\n",
    "KN.draw(data_kn, labels_kn)"
   ]
  },
  {
   "cell_type": "markdown",
   "metadata": {},
   "source": [
    "![alt text](Breast_Cancer_TDA/breast_cancer_1_50_150.png \"1-nerve\"| width = 100) ![2-nerve at 10x10](Breast_Cancer_TDA/breast_cancer_2_100_06.png \"2-nerve at resolution 10x10\") \n"
   ]
  },
  {
   "cell_type": "markdown",
   "metadata": {},
   "source": [
    "### 2-nerve at increasing resolutions"
   ]
  },
  {
   "cell_type": "code",
   "execution_count": null,
   "metadata": {},
   "outputs": [],
   "source": [
    "import k_nerve as kn\n",
    "KN = kn.k_Nerve(n_components = 2, covering_size = 100, overlap = 0.6)\n",
    "KN.draw(data_kn, labels_kn)"
   ]
  },
  {
   "cell_type": "markdown",
   "metadata": {},
   "source": [
    "![2-nerve at 10x10](Breast_Cancer_TDA/breast_cancer_2_100_06.png \"2-nerve at resolution 10x10\") \n"
   ]
  },
  {
   "cell_type": "code",
   "execution_count": null,
   "metadata": {
    "scrolled": true
   },
   "outputs": [],
   "source": [
    "import k_nerve as kn\n",
    "KN = kn.k_Nerve(n_components = 2, covering_size = 225, overlap = 0.65)\n",
    "KN.draw(data_kn, labels_kn)"
   ]
  },
  {
   "attachments": {},
   "cell_type": "markdown",
   "metadata": {},
   "source": [
    "![alt text](Breast_Cancer_TDA/breast_cancer_2_225_065.png \"2-nerve at resolution 15x15\")\n"
   ]
  },
  {
   "cell_type": "code",
   "execution_count": null,
   "metadata": {},
   "outputs": [],
   "source": [
    "import k_nerve as kn\n",
    "KN = kn.k_Nerve(n_components = 2, covering_size = 400, overlap = 0.75)\n",
    "KN.draw(data_kn, labels_kn)"
   ]
  },
  {
   "cell_type": "markdown",
   "metadata": {},
   "source": [
    "![alt text](Breast_Cancer_TDA/breast_cancer_2_400_075.png \"2-nerve at resolution 20x20\")\n"
   ]
  },
  {
   "cell_type": "markdown",
   "metadata": {},
   "source": [
    "## 3-nerve"
   ]
  },
  {
   "cell_type": "code",
   "execution_count": null,
   "metadata": {},
   "outputs": [],
   "source": [
    "import k_nerve as kn\n",
    "KN = kn.k_Nerve(n_components = 3, covering_size = 100, overlap = 0.25)\n",
    "KN.draw(data_kn, labels_kn)"
   ]
  },
  {
   "cell_type": "markdown",
   "metadata": {},
   "source": [
    "![alt text](Breast_Cancer_TDA/breast_cancer_kaggle_3_100_025.png \"3-nerve\")"
   ]
  },
  {
   "cell_type": "markdown",
   "metadata": {},
   "source": []
  },
  {
   "cell_type": "code",
   "execution_count": null,
   "metadata": {
    "collapsed": true
   },
   "outputs": [],
   "source": []
  }
 ],
 "metadata": {
  "kernelspec": {
   "display_name": "Python 3",
   "language": "python",
   "name": "python3"
  },
  "language_info": {
   "codemirror_mode": {
    "name": "ipython",
    "version": 3
   },
   "file_extension": ".py",
   "mimetype": "text/x-python",
   "name": "python",
   "nbconvert_exporter": "python",
   "pygments_lexer": "ipython3",
   "version": "3.6.1"
  }
 },
 "nbformat": 4,
 "nbformat_minor": 2
}
